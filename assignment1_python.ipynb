{
  "nbformat": 4,
  "nbformat_minor": 0,
  "metadata": {
    "colab": {
      "provenance": []
    },
    "kernelspec": {
      "name": "python3",
      "display_name": "Python 3"
    },
    "language_info": {
      "name": "python"
    }
  },
  "cells": [
    {
      "cell_type": "markdown",
      "source": [
        "###1. What is Python, and why is it popular?\n",
        "\n",
        " A. Python is a programmimg language.\n",
        " python is popular because it is\n",
        "* Easy-to-learn − Python has few keywords, simple structure, and a clearly defined syntax. This allows the student to pick up the language quickly.\n",
        "\n",
        "* Easy-to-read − Python code is more clearly defined and visible to the eyes.\n",
        "\n",
        "* Easy-to-maintain − Python's source code is fairly easy-to-maintain.\n",
        "\n",
        "* A broad standard library − Python's bulk of the library is very portable and cross-platform compatible on UNIX, Windows, and Macintosh.\n",
        "\n",
        "* Interactive Mode − Python has support for an interactive mode which allows interactive testing and debugging of snippets of code.\n",
        "\n",
        "* Portable − Python can run on a wide variety of hardware platforms and has the same interface on all platforms.\n",
        "\n",
        "* Extendable − You can add low-level modules to the Python interpreter. These modules enable programmers to add to or customize their tools to be more efficient.\n",
        "\n",
        "* Databases − Python provides interfaces to all major commercial databases.\n",
        "\n",
        "* GUI Programming − Python supports GUI applications that can be created and ported to many system calls, libraries and windows systems, such as Windows MFC, Macintosh, and the X Window system of Unix.\n"
      ],
      "metadata": {
        "id": "Z3i0XTA_wBAB"
      }
    },
    {
      "cell_type": "markdown",
      "source": [
        "###2. What is an interpreter in Python?\n",
        "\n",
        " An interpreter is a type of software program that reads and executes programs line by line . Interpreters are a key component of Python,\n",
        " allowing developers to run scripts and interact with the language.\n",
        "\n",
        ">\n",
        "\n",
        "\n"
      ],
      "metadata": {
        "id": "2n4NRZ89tlq-"
      }
    },
    {
      "cell_type": "markdown",
      "source": [
        "###3. What are pre-defined keywords in Python?\n",
        "\n",
        " A. Predefined keywords in Python are reserved words that have a specific meaning and cannot be changed by the programmer.\n",
        " Here are some examples of Python keywords:\n",
        " * True and False: These are truth values that represent the result of comparison operations. the value of true is 1 and\n",
        "the value of false is 0.\n",
        " * Break: This keyword is used to break out of a loop and pass control to the statement that follows.\n",
        " * Continue: This keyword is used to skip the current iteration of a loop without ending the loop.\n",
        " * For: This keyword is used to control flow and for looping.\n",
        " * While: This keyword is used to control flow and for looping.\n",
        " * Python keywords are case-sensitive and are written in lowercase, except for True, False, and None.\n",
        "\n"
      ],
      "metadata": {
        "id": "o-d25BWjuKpG"
      }
    },
    {
      "cell_type": "markdown",
      "source": [
        "###4. Can keywords be used as variable names?\n",
        "\n",
        " A. No, keywords cannot be used as variable names in any programming language:\n",
        " Some of the key words in python are None,True,False,else,elif,break,continue .\n"
      ],
      "metadata": {
        "id": "12d4pFaiuq2u"
      }
    },
    {
      "cell_type": "markdown",
      "source": [
        "###5. What is mutability in Python?\n",
        "\n",
        "A. In Python, mutability refers to the capability of an object to be changed or modified after\n",
        " its creation. In Python, lists are a widely used data structure that allows the storage and manipulation of a collection\n",
        "of items\n"
      ],
      "metadata": {
        "id": "QWq_7ZtTu2PP"
      }
    },
    {
      "cell_type": "markdown",
      "source": [
        "###6. Why are lists mutable, but tuples are immutable?\n",
        "\n",
        "A. The difference between tuples and lists is that tuples are immutable, meaning their contents cannot be changed after creation,\n",
        " while lists are mutable and can be modified. Additionally, tuples are more memory-efficient compared to lists.\n",
        " Tuples can't be changed after they're created, but lists can be modified.\n",
        "\n"
      ],
      "metadata": {
        "id": "RMQwYgmGvBQG"
      }
    },
    {
      "cell_type": "markdown",
      "source": [
        "###7. What is the difference between “==” and “is” operators in Python?\n",
        "\n",
        "A. The == operator is used to compare the equality of objects. The 'is' operator is used to check if different variables are pointing\n",
        "to the same object in memory. The == operator is used in Python when the values of the operands are equal.\n",
        "The 'is' operator in Python is used for identity comparison.\n",
        "\n"
      ],
      "metadata": {
        "id": "ZbaYi30nvKh5"
      }
    },
    {
      "cell_type": "markdown",
      "source": [
        "###8. What are logical operators in Python?\n",
        "\n",
        "A.A logical operator is a symbol or word that combines two or more expressions to produce a Boolean value.\n",
        " #Boolean values are either true or false. Logical operators are used in programming to create test expressions\n",
        "  that control program flow.\n",
        " Examples of logical operators :\n",
        ". AND\n",
        ". OR\n",
        ". NOT\n",
        ". XOR\n"
      ],
      "metadata": {
        "id": "RUQ7ZhnovZnP"
      }
    },
    {
      "cell_type": "markdown",
      "source": [
        "###9. What is type casting in Python?\n",
        "A. Type casting in Python is the process of converting a variable's data type from one type to another. It's also known as type conversion.\n",
        "There are two types of type casting in Python:\n",
        "####Implicit\n",
        "Python automatically converts one data type to another without any explicit instruction from the programmer.\n",
        "For example, when adding an integer to a float, Python automatically converts the integer to a float.\n",
        "####Explicit\n",
        "The programmer explicitly instructs Python to convert one data type to another.\n",
        "Python supports a variety of functions and methods for type casting, including:\n",
        "int(), float(), str(), ord(), hex(), oct(), tuple(), set(), list(), and dict().\n",
        "\n",
        "\n",
        "\n"
      ],
      "metadata": {
        "id": "xlNWZC_zxkWJ"
      }
    },
    {
      "cell_type": "markdown",
      "source": [
        "###10. What is the difference between implicit and explicit type casting?\n",
        "\n",
        "A.####Implicit type casting\n",
        "The compiler or interpreter automatically converts one data type to another to perform an operation. This is often used to convert smaller data types to larger data types, and is usually invisible to the user.\n",
        "####Explicit type casting\n",
        "The programmer writes code to explicitly instruct the compiler or interpreter to make a specific conversion. This is visible in the source code and gives the programmer more control over the data conversion process.\n"
      ],
      "metadata": {
        "id": "5_EIHL71y920"
      }
    },
    {
      "cell_type": "markdown",
      "source": [
        "###11. What is the purpose of conditional statements in Python?\n",
        "A. Conditional statements in Python control the flow of a program by evaluating conditions and executing code based on the outcome. They can make code more efficient and easier to read.\n",
        "How they work\n",
        "Conditional statements evaluate conditions and decide whether to execute a block of code\n",
        "If the condition is true, the code block is executed\n",
        "If the condition is false, the code block is not executed\n",
        "Examples of conditional statements\n",
        "If-else statements: Can be used to separate even and odd numbers\n",
        "In operator: Can be used to check if a character is in a string\n"
      ],
      "metadata": {
        "id": "SCvztn1xz6e2"
      }
    },
    {
      "cell_type": "markdown",
      "source": [
        "###12. How does the elif statement work?\n",
        "A. The “elif” keyword in Python, stands for “else if”. It can be used in conditional statements to check for multiple conditions. For example, if the first condition is false, it moves on to the next “elif” statement to check if that condition is true.\n",
        "\n"
      ],
      "metadata": {
        "id": "nJ0Hj7R90fU2"
      }
    },
    {
      "cell_type": "markdown",
      "source": [
        "###13. What is the difference between for and while loops?\n",
        "A. The difference between a for loop and a while loop is when the number of iterations is known or unknown:\n",
        "####For loop\n",
        "*Used when the number of iterations is known in advance. For loops are also known as entry-controlled loops.\n",
        "\n",
        "####While loop\n",
        "Used when the number of iterations is unknown in advance. While loops are also known as pre-tested loops.\n",
        "Here are some other differences between for and while loops:\n",
        "###When to use\n",
        "For loops are used to iterate over a fixed number of items in a collection. While loops are used when you want to have the logic dictate when to exit the loop.\n",
        "####How it works\n",
        "For loops are always followed by the initialization, expression, and increment statements. While loops evaluate a test condition and iterate over the loop body until the condition returns true.\n",
        "####Examples\n",
        "For loops can be used to print out all the elements of a vector, or to apply a function to each element of a list. While loops can be used to ask a user for a number between 1 and 10, and keep asking until the user enters a number within that range.\n"
      ],
      "metadata": {
        "id": "aR2GcLmZ1HGe"
      }
    },
    {
      "cell_type": "markdown",
      "source": [
        "###14. Describe a scenario where a while loop is more suitable than a for loop?\n",
        "A.\n",
        "A while loop is more suitable than a for loop when you don't know in advance how many iterations are needed and the termination condition depends on something that might change dynamically during the execution of the loop. This is often the case when the loop is governed by a condition that isn't tied to a fixed sequence or range.\n",
        "\n",
        "Define the correct password\n",
        "correct_password = \"secure123\"\n",
        "\n",
        "\n",
        "Initialize the user's input\n",
        "user_input = \"\"\n",
        "\n",
        " Keep asking until the correct password is entered\n",
        "while user_input != correct_password:\n",
        "    user_input = input(\"Enter the correct password: \")\n",
        "\n",
        "print(\"Access granted!\")\n",
        "\n"
      ],
      "metadata": {
        "id": "OXSALnCZ2Mdw"
      }
    },
    {
      "cell_type": "markdown",
      "source": [
        "#** Practical Questions**"
      ],
      "metadata": {
        "id": "O8TEePYU3AIl"
      }
    },
    {
      "cell_type": "code",
      "source": [
        "#1. Write a Python program to print \"Hello, World!_\n",
        "a=(\"hello world\")\n",
        "print(a)"
      ],
      "metadata": {
        "colab": {
          "base_uri": "https://localhost:8080/"
        },
        "id": "MENmeWig3M1I",
        "outputId": "2110d008-fdaa-48ec-9b42-2fa1902bfe65"
      },
      "execution_count": null,
      "outputs": [
        {
          "output_type": "stream",
          "name": "stdout",
          "text": [
            "hello world\n"
          ]
        }
      ]
    },
    {
      "cell_type": "code",
      "source": [
        "# 2. Write a Python program that displays your name and age\n",
        "\n",
        "name = \"kajal\"\n",
        "age = 23\n",
        "print(\"My name is\", name)\n",
        "print(\"My age is\", age)\n"
      ],
      "metadata": {
        "colab": {
          "base_uri": "https://localhost:8080/"
        },
        "id": "IAf2Cw_R3cup",
        "outputId": "cac8c838-b65c-443e-b41d-eaf2714b1682"
      },
      "execution_count": null,
      "outputs": [
        {
          "output_type": "stream",
          "name": "stdout",
          "text": [
            "My name is kajal\n",
            "My age is 23\n"
          ]
        }
      ]
    },
    {
      "cell_type": "code",
      "source": [
        "#3.Write code to print all the pre-defined keywords in Python using the keyword library\n",
        "\n",
        "import keyword\n",
        "\n",
        "keyword.kwlist"
      ],
      "metadata": {
        "colab": {
          "base_uri": "https://localhost:8080/"
        },
        "id": "DMRHKq1w5toX",
        "outputId": "6c5f578a-37a5-416c-ac8b-4d967f54031d"
      },
      "execution_count": null,
      "outputs": [
        {
          "output_type": "execute_result",
          "data": {
            "text/plain": [
              "['False',\n",
              " 'None',\n",
              " 'True',\n",
              " 'and',\n",
              " 'as',\n",
              " 'assert',\n",
              " 'async',\n",
              " 'await',\n",
              " 'break',\n",
              " 'class',\n",
              " 'continue',\n",
              " 'def',\n",
              " 'del',\n",
              " 'elif',\n",
              " 'else',\n",
              " 'except',\n",
              " 'finally',\n",
              " 'for',\n",
              " 'from',\n",
              " 'global',\n",
              " 'if',\n",
              " 'import',\n",
              " 'in',\n",
              " 'is',\n",
              " 'lambda',\n",
              " 'nonlocal',\n",
              " 'not',\n",
              " 'or',\n",
              " 'pass',\n",
              " 'raise',\n",
              " 'return',\n",
              " 'try',\n",
              " 'while',\n",
              " 'with',\n",
              " 'yield']"
            ]
          },
          "metadata": {},
          "execution_count": 5
        }
      ]
    },
    {
      "cell_type": "code",
      "source": [
        " # Write a program that checks if a given word is a Python keyword\n",
        "import keyword\n",
        "\n",
        "def is_keyword(word):\n",
        "    return keyword.iskeyword(word)\n",
        "word = \"for\"\n",
        "if is_keyword(word):\n",
        "    print(f\"'{word}' is a Python keyword.\")\n",
        "else:\n",
        "    print(f\"'{word}' is not a Python keyword.\")\n",
        "\n",
        "word = \"hello\"\n",
        "if is_keyword(word):\n",
        "    print(f\"'{word}' is a Python keyword.\")\n",
        "else:\n",
        "    print(f\"'{word}' is not a Python keyword.\")"
      ],
      "metadata": {
        "id": "ZQ6xe5FK6l2c",
        "colab": {
          "base_uri": "https://localhost:8080/"
        },
        "outputId": "15fa7d81-3bf8-4a7e-b457-39e87c86f8f3"
      },
      "execution_count": null,
      "outputs": [
        {
          "output_type": "stream",
          "name": "stdout",
          "text": [
            "'for' is a Python keyword.\n",
            "'hello' is not a Python keyword.\n"
          ]
        }
      ]
    },
    {
      "cell_type": "code",
      "source": [
        " #5. Create a list and tuple in Python, and demonstrate how attempting to change an element works differently  for each\n",
        "my_list = [1, 2, 3, 4]\n",
        "\n",
        "# Trying to change an element in the list\n",
        "my_list[2] = 10  # Lists are mutable, so this will work.\n",
        "print(\"Updated list:\", my_list)"
      ],
      "metadata": {
        "colab": {
          "base_uri": "https://localhost:8080/"
        },
        "id": "dDFwmpsI0InR",
        "outputId": "a947c619-efb6-4b8b-c8f6-5e9eea2a4a41"
      },
      "execution_count": null,
      "outputs": [
        {
          "output_type": "stream",
          "name": "stdout",
          "text": [
            "Updated list: [1, 2, 10, 4]\n"
          ]
        }
      ]
    },
    {
      "cell_type": "code",
      "source": [
        "# Creating a tuple\n",
        "my_tuple = (1, 2, 3, 4)\n",
        "\n",
        "# Trying to change an element in the tuple\n",
        "try:\n",
        "    my_tuple[2] = 10  # Tuples are immutable, so this will raise an error.\n",
        "except TypeError as e:\n",
        "    print(\"Error:\", e)"
      ],
      "metadata": {
        "colab": {
          "base_uri": "https://localhost:8080/"
        },
        "id": "XRonSFYA0c4m",
        "outputId": "e6a65f75-2ea8-4208-9856-4677f51cbfab"
      },
      "execution_count": null,
      "outputs": [
        {
          "output_type": "stream",
          "name": "stdout",
          "text": [
            "Error: 'tuple' object does not support item assignment\n"
          ]
        }
      ]
    },
    {
      "cell_type": "code",
      "source": [
        "#6. Write a function to demonstrate the behavior of mutable and immutable arguments?\n",
        "def demonstrate_mutability(immutable_arg, mutable_arg):\n",
        "    print(\"Before modification:\")\n",
        "    print(f\"Immutable argument: {immutable_arg}\")\n",
        "    print(f\"Mutable argument: {mutable_arg}\")\n",
        "\n",
        "    # Trying to modify the immutable argument (will not affect the original variable)\n",
        "    immutable_arg += 1\n",
        "    print(\"\\nAfter modifying the immutable argument:\")\n",
        "    print(f\"Immutable argument: {immutable_arg}\")\n",
        "\n",
        "    # Modifying the mutable argument (will affect the original variable)\n",
        "    mutable_arg.append(4)\n",
        "    print(\"\\nAfter modifying the mutable argument:\")\n",
        "    print(f\"Mutable argument: {mutable_arg}\")\n",
        "\n",
        "# Test with an immutable and a mutable argument\n",
        "immutable = 10\n",
        "mutable = [1, 2, 3]\n",
        "\n",
        "demonstrate_mutability(immutable, mutable)"
      ],
      "metadata": {
        "colab": {
          "base_uri": "https://localhost:8080/"
        },
        "id": "vy_zqOh-1XzA",
        "outputId": "3ee23a83-25a8-4b03-e864-ad456ef17d7d"
      },
      "execution_count": null,
      "outputs": [
        {
          "output_type": "stream",
          "name": "stdout",
          "text": [
            "Before modification:\n",
            "Immutable argument: 10\n",
            "Mutable argument: [1, 2, 3]\n",
            "\n",
            "After modifying the immutable argument:\n",
            "Immutable argument: 11\n",
            "\n",
            "After modifying the mutable argument:\n",
            "Mutable argument: [1, 2, 3, 4]\n"
          ]
        }
      ]
    },
    {
      "cell_type": "code",
      "source": [
        "#7. Write a function to demonstrate the behavior of mutable and immutable arguments?\n",
        "\n",
        "def demonstrate_mutable_immutable(immutable_arg, mutable_arg):\n",
        "    print(\"Before modification:\")\n",
        "    print(f\"Immutable argument: {immutable_arg}\")\n",
        "    print(f\"Mutable argument: {mutable_arg}\")\n",
        "\n",
        "    # Modifying the immutable argument (creating a new object)\n",
        "    immutable_arg += 10\n",
        "    print(\"\\nAfter modifying the immutable argument:\")\n",
        "    print(f\"Immutable argument: {immutable_arg}\")\n",
        "\n",
        "    # Modifying the mutable argument (modifying the object in place)\n",
        "    mutable_arg.append(100)\n",
        "    print(\"\\nAfter modifying the mutable argument:\")\n",
        "    print(f\"Mutable argument: {mutable_arg}\")\n",
        "\n",
        "\n",
        "# Test with an immutable (int) and a mutable (list) argument\n",
        "immutable_example = 5\n",
        "mutable_example = [1, 2, 3]\n",
        "\n",
        "demonstrate_mutable_immutable(immutable_example, mutable_example)\n",
        "\n",
        "# Showing the values outside the function\n",
        "print(\"\\nOutside the function:\")\n",
        "print(f\"Immutable argument (outside): {immutable_example}\")\n",
        "print(f\"Mutable argument (outside): {mutable_example}\")\n"
      ],
      "metadata": {
        "colab": {
          "base_uri": "https://localhost:8080/"
        },
        "id": "rypmuRfUDUCA",
        "outputId": "32a6fcb0-ee6d-4df2-92c0-cde4cbefc92e"
      },
      "execution_count": null,
      "outputs": [
        {
          "output_type": "stream",
          "name": "stdout",
          "text": [
            "Before modification:\n",
            "Immutable argument: 5\n",
            "Mutable argument: [1, 2, 3]\n",
            "\n",
            "After modifying the immutable argument:\n",
            "Immutable argument: 15\n",
            "\n",
            "After modifying the mutable argument:\n",
            "Mutable argument: [1, 2, 3, 100]\n",
            "\n",
            "Outside the function:\n",
            "Immutable argument (outside): 5\n",
            "Mutable argument (outside): [1, 2, 3, 100]\n"
          ]
        }
      ]
    },
    {
      "cell_type": "code",
      "source": [
        "#8. Write a program to demonstrate the use of logical operators ?\n",
        "\n",
        "def demonstrate_logical_operators(a, b):\n",
        "    # Demonstrating 'and' logical operator\n",
        "    print(f\"a = {a}, b = {b}\")\n",
        "    print(f\"a and b: {a and b}\")  # True if both a and b are True, else False\n",
        "\n",
        "    # Demonstrating 'or' logical operator\n",
        "    print(f\"a or b: {a or b}\")  # True if at least one of a or b is True, else False\n",
        "\n",
        "    # Demonstrating 'not' logical operator\n",
        "    print(f\"not a: {not a}\")  # True if a is False, False if a is True\n",
        "    print(f\"not b: {not b}\")  # True if b is False, False if b is True\n",
        "\n",
        "# Test with different boolean values\n",
        "demonstrate_logical_operators(True, False)\n",
        "print(\"\\nNext test:\")\n",
        "demonstrate_logical_operators(False, False)\n",
        "print(\"\\nNext test:\")\n",
        "demonstrate_logical_operators(True, True)\n"
      ],
      "metadata": {
        "colab": {
          "base_uri": "https://localhost:8080/"
        },
        "id": "ob0OZxkwEJqw",
        "outputId": "8964c3f2-57e8-454f-c741-218561642e76"
      },
      "execution_count": null,
      "outputs": [
        {
          "output_type": "stream",
          "name": "stdout",
          "text": [
            "a = True, b = False\n",
            "a and b: False\n",
            "a or b: True\n",
            "not a: False\n",
            "not b: True\n",
            "\n",
            "Next test:\n",
            "a = False, b = False\n",
            "a and b: False\n",
            "a or b: False\n",
            "not a: True\n",
            "not b: True\n",
            "\n",
            "Next test:\n",
            "a = True, b = True\n",
            "a and b: True\n",
            "a or b: True\n",
            "not a: False\n",
            "not b: False\n"
          ]
        }
      ]
    },
    {
      "cell_type": "code",
      "source": [
        "#9. Write a Python program to convert user input from string to integer, float, and boolean types?\n",
        "def convert_input():\n",
        "    # Get user input as a string\n",
        "    user_input = input(\"Enter a value: \")\n",
        "\n",
        "    # Convert the input to an integer (if possible)\n",
        "    try:\n",
        "        int_value = int(user_input)\n",
        "        print(f\"Converted to integer: {int_value}\")\n",
        "    except ValueError:\n",
        "        print(\"Input cannot be converted to an integer.\")\n",
        "\n",
        "    # Convert the input to a float (if possible)\n",
        "    try:\n",
        "        float_value = float(user_input)\n",
        "        print(f\"Converted to float: {float_value}\")\n",
        "    except ValueError:\n",
        "        print(\"Input cannot be converted to a float.\")\n",
        "\n",
        "    # Convert the input to a boolean\n",
        "    # For booleans, non-empty strings are generally considered True, and empty strings are considered False.\n",
        "    bool_value = bool(user_input)\n",
        "    print(f\"Converted to boolean: {bool_value}\")\n",
        "\n",
        "convert_input()\n",
        "\n"
      ],
      "metadata": {
        "colab": {
          "base_uri": "https://localhost:8080/"
        },
        "id": "LH3MuTNLEu2D",
        "outputId": "6e1f87b2-de25-499b-a174-206da2799d3a"
      },
      "execution_count": null,
      "outputs": [
        {
          "output_type": "stream",
          "name": "stdout",
          "text": [
            "Enter a value: hello\n",
            "Input cannot be converted to an integer.\n",
            "Input cannot be converted to a float.\n",
            "Converted to boolean: True\n"
          ]
        }
      ]
    },
    {
      "cell_type": "code",
      "source": [
        "#10. Write code to demonstrate type casting with list elements?\n",
        "def demonstrate_basic_type_casting():\n",
        "    mixed_list = [10, '20', 30, '40']\n",
        "\n",
        "    print(\"Original list:\")\n",
        "    print(mixed_list)\n",
        "\n",
        "    # Convert all string elements to integers\n",
        "    int_list = [int(item) if isinstance(item, str) else item for item in mixed_list]\n",
        "    print(\"\\nList after converting string elements to integers:\")\n",
        "    print(int_list)\n",
        "\n",
        "    # Convert all elements to strings\n",
        "    str_list = [str(item) for item in mixed_list]\n",
        "    print(\"\\nList after converting all elements to strings:\")\n",
        "    print(str_list)\n",
        "\n",
        "    # Convert all elements to floats\n",
        "    float_list = [float(item) for item in mixed_list]\n",
        "    print(\"\\nList after converting all elements to floats:\")\n",
        "    print(float_list)\n",
        "\n",
        "# Call the function to demonstrate basic type casting\n",
        "demonstrate_basic_type_casting()\n",
        "\n"
      ],
      "metadata": {
        "colab": {
          "base_uri": "https://localhost:8080/"
        },
        "id": "U2hmJTEXFkAz",
        "outputId": "eebc02dd-1d15-4707-d088-7e3441cd8c10"
      },
      "execution_count": null,
      "outputs": [
        {
          "output_type": "stream",
          "name": "stdout",
          "text": [
            "Original list:\n",
            "[10, '20', 30, '40']\n",
            "\n",
            "List after converting string elements to integers:\n",
            "[10, 20, 30, 40]\n",
            "\n",
            "List after converting all elements to strings:\n",
            "['10', '20', '30', '40']\n",
            "\n",
            "List after converting all elements to floats:\n",
            "[10.0, 20.0, 30.0, 40.0]\n"
          ]
        }
      ]
    },
    {
      "cell_type": "code",
      "source": [
        "#11. Write a program that checks if a number is positive, negative, or zero?\n",
        "def check_number():\n",
        "    number = float(input(\"Enter a number: \"))\n",
        "\n",
        "    # Check if the number is positive, negative, or zero\n",
        "    if number > 0:\n",
        "        print(\"The number is positive.\")\n",
        "    elif number < 0:\n",
        "        print(\"The number is negative.\")\n",
        "    else:\n",
        "        print(\"The number is zero.\")\n",
        "\n",
        "check_number()\n",
        "\n"
      ],
      "metadata": {
        "colab": {
          "base_uri": "https://localhost:8080/"
        },
        "id": "N84ZEIQ_G3nk",
        "outputId": "94ea57d1-e331-4093-d652-71b720c9ffd2"
      },
      "execution_count": null,
      "outputs": [
        {
          "output_type": "stream",
          "name": "stdout",
          "text": [
            "Enter a number: -7\n",
            "The number is negative.\n"
          ]
        }
      ]
    },
    {
      "cell_type": "code",
      "source": [
        "#12. Write a for loop to print numbers from 1 to 100?\n",
        "for i in range(1, 101):\n",
        "    print(i)\n",
        "\n"
      ],
      "metadata": {
        "colab": {
          "base_uri": "https://localhost:8080/"
        },
        "id": "I-8AXoVYHjlc",
        "outputId": "07665dcb-2533-4a40-fc34-d9e2cf86eaff"
      },
      "execution_count": null,
      "outputs": [
        {
          "output_type": "stream",
          "name": "stdout",
          "text": [
            "1\n",
            "2\n",
            "3\n",
            "4\n",
            "5\n",
            "6\n",
            "7\n",
            "8\n",
            "9\n",
            "10\n",
            "11\n",
            "12\n",
            "13\n",
            "14\n",
            "15\n",
            "16\n",
            "17\n",
            "18\n",
            "19\n",
            "20\n",
            "21\n",
            "22\n",
            "23\n",
            "24\n",
            "25\n",
            "26\n",
            "27\n",
            "28\n",
            "29\n",
            "30\n",
            "31\n",
            "32\n",
            "33\n",
            "34\n",
            "35\n",
            "36\n",
            "37\n",
            "38\n",
            "39\n",
            "40\n",
            "41\n",
            "42\n",
            "43\n",
            "44\n",
            "45\n",
            "46\n",
            "47\n",
            "48\n",
            "49\n",
            "50\n",
            "51\n",
            "52\n",
            "53\n",
            "54\n",
            "55\n",
            "56\n",
            "57\n",
            "58\n",
            "59\n",
            "60\n",
            "61\n",
            "62\n",
            "63\n",
            "64\n",
            "65\n",
            "66\n",
            "67\n",
            "68\n",
            "69\n",
            "70\n",
            "71\n",
            "72\n",
            "73\n",
            "74\n",
            "75\n",
            "76\n",
            "77\n",
            "78\n",
            "79\n",
            "80\n",
            "81\n",
            "82\n",
            "83\n",
            "84\n",
            "85\n",
            "86\n",
            "87\n",
            "88\n",
            "89\n",
            "90\n",
            "91\n",
            "92\n",
            "93\n",
            "94\n",
            "95\n",
            "96\n",
            "97\n",
            "98\n",
            "99\n",
            "100\n"
          ]
        }
      ]
    },
    {
      "cell_type": "code",
      "source": [
        "#13. Write a Python program to find the sum of all even numbers between 1 and 500\n",
        "sum_of_evens = 0\n",
        "for number in range(1, 501):\n",
        "    if number % 2 == 0:\n",
        "        sum_of_evens += number\n",
        "\n",
        "print(\"The sum of all even numbers between 1 and 500 is:\", sum_of_evens)\n",
        "\n"
      ],
      "metadata": {
        "colab": {
          "base_uri": "https://localhost:8080/"
        },
        "id": "MxQFoKO1IIUk",
        "outputId": "e6622295-2596-44ff-b20b-865776eb0cde"
      },
      "execution_count": null,
      "outputs": [
        {
          "output_type": "stream",
          "name": "stdout",
          "text": [
            "The sum of all even numbers between 1 and 500 is: 62750\n"
          ]
        }
      ]
    },
    {
      "cell_type": "code",
      "source": [
        "#14. Write a program to reverse a string using a while loop?\n",
        "def reverse_string(input_string):\n",
        "    reversed_string = \"\"\n",
        "    index = len(input_string) - 1\n",
        "\n",
        "    while index >= 0:\n",
        "        reversed_string += input_string[index]\n",
        "        index -= 1\n",
        "\n",
        "    return reversed_string\n"
      ],
      "metadata": {
        "id": "vCjwS1KGIxNs"
      },
      "execution_count": null,
      "outputs": []
    },
    {
      "cell_type": "code",
      "source": [
        "#15. Write a Python program to calculate the factorial of a number provided by the user using a while loop.\n",
        "\n",
        "number = int(input(\"Enter a number to calculate its factorial: \"))\n",
        "\n",
        "factorial = 1\n",
        "\n",
        "counter = number\n",
        "\n",
        "# Calculate factorial using a while loop\n",
        "while counter > 0:\n",
        "    factorial *= counter\n",
        "    counter -= 1\n",
        "print(f\"The factorial of {number} is: {factorial}\")\n",
        "\n"
      ],
      "metadata": {
        "colab": {
          "base_uri": "https://localhost:8080/"
        },
        "id": "LmhTzneSJOho",
        "outputId": "60e5bdbc-55ba-4910-8d97-df91100fe1f2"
      },
      "execution_count": null,
      "outputs": [
        {
          "output_type": "stream",
          "name": "stdout",
          "text": [
            "Enter a number to calculate its factorial: 7\n",
            "The factorial of 7 is: 5040\n"
          ]
        }
      ]
    }
  ]
}